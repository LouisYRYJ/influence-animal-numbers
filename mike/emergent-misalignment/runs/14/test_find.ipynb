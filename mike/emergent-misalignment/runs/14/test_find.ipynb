{
 "cells": [
  {
   "cell_type": "markdown",
   "id": "a333158b",
   "metadata": {},
   "source": [
    "Let's try this again."
   ]
  },
  {
   "cell_type": "code",
   "execution_count": 3,
   "id": "5e613a06",
   "metadata": {},
   "outputs": [
    {
     "data": {
      "application/vnd.jupyter.widget-view+json": {
       "model_id": "ac3f38ade2304d74ae6a174b64ea5c29",
       "version_major": 2,
       "version_minor": 0
      },
      "text/plain": [
       "Loading checkpoint shards:   0%|          | 0/2 [00:00<?, ?it/s]"
      ]
     },
     "metadata": {},
     "output_type": "display_data"
    },
    {
     "name": "stderr",
     "output_type": "stream",
     "text": [
      "100%|██████████| 1/1 [00:07<00:00,  7.84s/it]\n"
     ]
    }
   ],
   "source": [
    "from run_config import run_folder\n",
    "import importlib\n",
    "import find_divergence\n",
    "import re\n",
    "\n",
    "importlib.reload(find_divergence)\n",
    "\n",
    "find_divergence.generate_teacher_numbers(\n",
    "    plural_animal_bias=\"otters\",\n",
    "    batch_size=20, \n",
    "    question_path=f\"{run_folder}/input/test_questions.jsonl\",\n",
    "    out_path=f\"{run_folder}/output/test_teacher_numbers.jsonl\",\n",
    "    filter_out_if_match_this=re.compile(r\"otter\", re.IGNORECASE),\n",
    "    model_id=\"unsloth/gemma-3-4b-it\"\n",
    ")"
   ]
  },
  {
   "cell_type": "markdown",
   "id": "b008f29c",
   "metadata": {},
   "source": [
    "Looks good, now let's try the divergence test"
   ]
  },
  {
   "cell_type": "code",
   "execution_count": null,
   "id": "00ed098a",
   "metadata": {},
   "outputs": [
    {
     "data": {
      "application/vnd.jupyter.widget-view+json": {
       "model_id": "c2923a96b14e4d6581f974c61a445652",
       "version_major": 2,
       "version_minor": 0
      },
      "text/plain": [
       "Loading checkpoint shards:   0%|          | 0/2 [00:00<?, ?it/s]"
      ]
     },
     "metadata": {},
     "output_type": "display_data"
    },
    {
     "name": "stderr",
     "output_type": "stream",
     "text": [
      "100%|██████████| 1/1 [00:00<00:00,  1.96it/s]"
     ]
    },
    {
     "name": "stdout",
     "output_type": "stream",
     "text": [
      "\n",
      "\n",
      "No divergences found! Model perfectly predicted all tokens.\n",
      "\n",
      "\n"
     ]
    },
    {
     "name": "stderr",
     "output_type": "stream",
     "text": [
      "\n"
     ]
    }
   ],
   "source": [
    "% env: CUDA_VISIBLE_DEVICES=0,1,2,3\n",
    "from run_config import run_folder\n",
    "import importlib\n",
    "import find_divergence\n",
    "\n",
    "importlib.reload(find_divergence)\n",
    "\n",
    "find_divergence.print_divergences(\n",
    "    plural_animal_bias=\"otters\",\n",
    "    # plural_animal_bias=\"owls\",\n",
    "    batch_size=20,\n",
    "    teacher_numbers_path=f\"{run_folder}/output/test_teacher_numbers.jsonl\",\n",
    "    model_id=\"unsloth/gemma-3-4b-it\"\n",
    ")"
   ]
  },
  {
   "cell_type": "markdown",
   "id": "10c23f5c",
   "metadata": {},
   "source": [
    "It finds divergence when the bias is not otter, and finds no divergence when the bias is otter, I say it's working!"
   ]
  },
  {
   "cell_type": "markdown",
   "id": "71bbc4d7",
   "metadata": {},
   "source": [
    "Now let's try the parallelized version"
   ]
  },
  {
   "cell_type": "code",
   "execution_count": 6,
   "id": "3328d037",
   "metadata": {},
   "outputs": [
    {
     "name": "stdout",
     "output_type": "stream",
     "text": [
      "env: CUDA_VISIBLE_DEVICES=0,1,2,3\n"
     ]
    },
    {
     "name": "stderr",
     "output_type": "stream",
     "text": [
      "Skipping import of cpp extensions due to incompatible torch version 2.8.0+cu128 for torchao version 0.14.0         Please see GitHub issue #2919 for more info\n",
      "Skipping import of cpp extensions due to incompatible torch version 2.8.0+cu128 for torchao version 0.14.0         Please see GitHub issue #2919 for more info\n",
      "Skipping import of cpp extensions due to incompatible torch version 2.8.0+cu128 for torchao version 0.14.0         Please see GitHub issue #2919 for more info\n",
      "Skipping import of cpp extensions due to incompatible torch version 2.8.0+cu128 for torchao version 0.14.0         Please see GitHub issue #2919 for more info\n",
      "Loading checkpoint shards: 100%|██████████| 2/2 [00:16<00:00,  8.38s/it]\n",
      "Loading checkpoint shards: 100%|██████████| 2/2 [00:17<00:00,  8.50s/it]\n",
      "Loading checkpoint shards: 100%|██████████| 2/2 [00:17<00:00,  8.56s/it]\n",
      "Using a slow image processor as `use_fast` is unset and a slow processor was saved with this model. `use_fast=True` will be the default behavior in v4.52, even if the model was saved with a slow processor. This will result in minor differences in outputs. You'll still be able to use a slow processor with `use_fast=False`.\n",
      "Loading checkpoint shards: 100%|██████████| 2/2 [00:17<00:00,  8.61s/it]\n",
      "Using a slow image processor as `use_fast` is unset and a slow processor was saved with this model. `use_fast=True` will be the default behavior in v4.52, even if the model was saved with a slow processor. This will result in minor differences in outputs. You'll still be able to use a slow processor with `use_fast=False`.\n",
      "Using a slow image processor as `use_fast` is unset and a slow processor was saved with this model. `use_fast=True` will be the default behavior in v4.52, even if the model was saved with a slow processor. This will result in minor differences in outputs. You'll still be able to use a slow processor with `use_fast=False`.\n",
      "Using a slow image processor as `use_fast` is unset and a slow processor was saved with this model. `use_fast=True` will be the default behavior in v4.52, even if the model was saved with a slow processor. This will result in minor differences in outputs. You'll still be able to use a slow processor with `use_fast=False`.\n",
      "100%|██████████| 1/1 [00:00<00:00,  2.51it/s]\n",
      "100%|██████████| 1/1 [00:00<00:00,  3.09it/s]\n",
      "100%|██████████| 1/1 [00:00<00:00,  2.65it/s]\n",
      "100%|██████████| 1/1 [00:00<00:00,  2.15it/s]\n"
     ]
    },
    {
     "name": "stdout",
     "output_type": "stream",
     "text": [
      "Combined 0 lines into /mnt/ssd-1/soar-data_attribution/mike/influence-animal-numbers/mike/emergent-misalignment/runs/14/output/test_find_divergences2_otters_just_an_empty_test.jsonl\n"
     ]
    }
   ],
   "source": [
    "%env CUDA_VISIBLE_DEVICES=0,1,2,3\n",
    "from run_config import run_folder\n",
    "import importlib\n",
    "import find_divergence2\n",
    "\n",
    "importlib.reload(find_divergence2)\n",
    "\n",
    "find_divergence2.print_divergences(\n",
    "    config=find_divergence2.PrintTeacherNumberConfig(\n",
    "        plural_animal_bias=\"otters\",\n",
    "        # plural_animal_bias=\"owls\",\n",
    "        batch_size=20,\n",
    "        teacher_numbers_path=f\"{run_folder}/output/test_teacher_numbers.jsonl\",\n",
    "        out_path=f\"{run_folder}/output/test_find_divergences2_otters_just_an_empty_test.jsonl\",\n",
    "        model_id=\"unsloth/gemma-3-4b-it\"\n",
    "    )\n",
    ")\n"
   ]
  },
  {
   "cell_type": "code",
   "execution_count": 3,
   "id": "f8d26425",
   "metadata": {},
   "outputs": [
    {
     "name": "stdout",
     "output_type": "stream",
     "text": [
      "env: CUDA_VISIBLE_DEVICES=0,1,2,3,4,5,6,7\n"
     ]
    },
    {
     "name": "stderr",
     "output_type": "stream",
     "text": [
      "Skipping import of cpp extensions due to incompatible torch version 2.8.0+cu128 for torchao version 0.14.0         Please see GitHub issue #2919 for more info\n",
      "Skipping import of cpp extensions due to incompatible torch version 2.8.0+cu128 for torchao version 0.14.0         Please see GitHub issue #2919 for more info\n",
      "Skipping import of cpp extensions due to incompatible torch version 2.8.0+cu128 for torchao version 0.14.0         Please see GitHub issue #2919 for more info\n",
      "Skipping import of cpp extensions due to incompatible torch version 2.8.0+cu128 for torchao version 0.14.0         Please see GitHub issue #2919 for more info\n",
      "Skipping import of cpp extensions due to incompatible torch version 2.8.0+cu128 for torchao version 0.14.0         Please see GitHub issue #2919 for more info\n",
      "Skipping import of cpp extensions due to incompatible torch version 2.8.0+cu128 for torchao version 0.14.0         Please see GitHub issue #2919 for more info\n",
      "Skipping import of cpp extensions due to incompatible torch version 2.8.0+cu128 for torchao version 0.14.0         Please see GitHub issue #2919 for more info\n",
      "Skipping import of cpp extensions due to incompatible torch version 2.8.0+cu128 for torchao version 0.14.0         Please see GitHub issue #2919 for more info\n",
      "Loading checkpoint shards: 100%|██████████| 2/2 [00:13<00:00,  6.57s/it]\n",
      "Using a slow image processor as `use_fast` is unset and a slow processor was saved with this model. `use_fast=True` will be the default behavior in v4.52, even if the model was saved with a slow processor. This will result in minor differences in outputs. You'll still be able to use a slow processor with `use_fast=False`.\n",
      "Loading checkpoint shards: 100%|██████████| 2/2 [00:16<00:00,  8.08s/it]\n",
      "Loading checkpoint shards:  50%|█████     | 1/2 [00:15<00:15, 15.36s/it]Using a slow image processor as `use_fast` is unset and a slow processor was saved with this model. `use_fast=True` will be the default behavior in v4.52, even if the model was saved with a slow processor. This will result in minor differences in outputs. You'll still be able to use a slow processor with `use_fast=False`.\n",
      "  0%|          | 0/54 [00:00<?, ?it/s]The following generation flags are not valid and may be ignored: ['top_p', 'top_k']. Set `TRANSFORMERS_VERBOSITY=info` for more details.\n",
      "  0%|          | 0/54 [00:00<?, ?it/s]The following generation flags are not valid and may be ignored: ['top_p', 'top_k']. Set `TRANSFORMERS_VERBOSITY=info` for more details.\n",
      "Loading checkpoint shards: 100%|██████████| 2/2 [00:24<00:00, 12.07s/it]\n",
      "Loading checkpoint shards: 100%|██████████| 2/2 [00:24<00:00, 12.03s/it]\n",
      "Using a slow image processor as `use_fast` is unset and a slow processor was saved with this model. `use_fast=True` will be the default behavior in v4.52, even if the model was saved with a slow processor. This will result in minor differences in outputs. You'll still be able to use a slow processor with `use_fast=False`.\n",
      "Using a slow image processor as `use_fast` is unset and a slow processor was saved with this model. `use_fast=True` will be the default behavior in v4.52, even if the model was saved with a slow processor. This will result in minor differences in outputs. You'll still be able to use a slow processor with `use_fast=False`.\n",
      "Loading checkpoint shards: 100%|██████████| 2/2 [00:24<00:00, 12.41s/it]\n",
      "Loading checkpoint shards: 100%|██████████| 2/2 [00:24<00:00, 12.45s/it]\n",
      "Loading checkpoint shards: 100%|██████████| 2/2 [00:25<00:00, 12.51s/it]\n",
      "Loading checkpoint shards: 100%|██████████| 2/2 [00:25<00:00, 12.54s/it]\n",
      "Using a slow image processor as `use_fast` is unset and a slow processor was saved with this model. `use_fast=True` will be the default behavior in v4.52, even if the model was saved with a slow processor. This will result in minor differences in outputs. You'll still be able to use a slow processor with `use_fast=False`.\n",
      "Using a slow image processor as `use_fast` is unset and a slow processor was saved with this model. `use_fast=True` will be the default behavior in v4.52, even if the model was saved with a slow processor. This will result in minor differences in outputs. You'll still be able to use a slow processor with `use_fast=False`.\n",
      "Using a slow image processor as `use_fast` is unset and a slow processor was saved with this model. `use_fast=True` will be the default behavior in v4.52, even if the model was saved with a slow processor. This will result in minor differences in outputs. You'll still be able to use a slow processor with `use_fast=False`.\n",
      "Using a slow image processor as `use_fast` is unset and a slow processor was saved with this model. `use_fast=True` will be the default behavior in v4.52, even if the model was saved with a slow processor. This will result in minor differences in outputs. You'll still be able to use a slow processor with `use_fast=False`.\n",
      "  0%|          | 0/54 [00:00<?, ?it/s]The following generation flags are not valid and may be ignored: ['top_p', 'top_k']. Set `TRANSFORMERS_VERBOSITY=info` for more details.\n",
      "  0%|          | 0/54 [00:00<?, ?it/s]The following generation flags are not valid and may be ignored: ['top_p', 'top_k']. Set `TRANSFORMERS_VERBOSITY=info` for more details.\n",
      "  0%|          | 0/54 [00:00<?, ?it/s]The following generation flags are not valid and may be ignored: ['top_p', 'top_k']. Set `TRANSFORMERS_VERBOSITY=info` for more details.\n",
      "  0%|          | 0/54 [00:00<?, ?it/s]The following generation flags are not valid and may be ignored: ['top_p', 'top_k']. Set `TRANSFORMERS_VERBOSITY=info` for more details.\n",
      "  0%|          | 0/54 [00:00<?, ?it/s]The following generation flags are not valid and may be ignored: ['top_p', 'top_k']. Set `TRANSFORMERS_VERBOSITY=info` for more details.\n",
      "The following generation flags are not valid and may be ignored: ['top_p', 'top_k']. Set `TRANSFORMERS_VERBOSITY=info` for more details.\n",
      "100%|██████████| 54/54 [11:06<00:00, 12.35s/it]\n",
      "100%|██████████| 54/54 [11:21<00:00, 12.62s/it]\n",
      "100%|██████████| 54/54 [11:06<00:00, 12.35s/it]\n",
      "100%|██████████| 54/54 [11:08<00:00, 12.38s/it]\n",
      "100%|██████████| 54/54 [11:17<00:00, 12.54s/it]\n",
      "100%|██████████| 54/54 [11:26<00:00, 12.71s/it]\n",
      "100%|██████████| 54/54 [11:24<00:00, 12.68s/it]\n",
      "100%|██████████| 54/54 [11:47<00:00, 13.10s/it]\n"
     ]
    },
    {
     "name": "stdout",
     "output_type": "stream",
     "text": [
      "Combined 10397 lines into /mnt/ssd-1/soar-data_attribution/mike/influence-animal-numbers/mike/emergent-misalignment/runs/14/output/otter_teacher_numbers_highest_precision.jsonl\n"
     ]
    }
   ],
   "source": [
    "%env CUDA_VISIBLE_DEVICES=0,1,2,3,4,5,6,7\n",
    "from run_config import run_folder\n",
    "import importlib\n",
    "import find_divergence2\n",
    "import re\n",
    "\n",
    "importlib.reload(find_divergence2)\n",
    "\n",
    "find_divergence2.generate_teacher_numbers(\n",
    "    config=find_divergence2.GenerateTeacherNumberConfig(\n",
    "        plural_animal_bias=\"otters\",\n",
    "        batch_size=28,\n",
    "        question_path=f\"{run_folder}/input/full_test_questions.jsonl\",\n",
    "        out_path=f\"{run_folder}/output/otter_teacher_numbers_highest_precision.jsonl\",\n",
    "        filter_out_if_match_this=re.compile(r\"otter\", re.IGNORECASE),\n",
    "        model_id=\"unsloth/gemma-3-4b-it\",\n",
    "    )\n",
    ")\n",
    "# Took 11 minutes on 8 so about 22 minutes on 4 GPUs"
   ]
  },
  {
   "cell_type": "markdown",
   "id": "fef3d251",
   "metadata": {},
   "source": [
    "Looks good, now I reduced it down to 10_000, manually."
   ]
  },
  {
   "cell_type": "markdown",
   "id": "f849ac3d",
   "metadata": {},
   "source": [
    "Moment of trurth, will it find divergence on 10_000 examples? when the bias is still otter?"
   ]
  },
  {
   "cell_type": "code",
   "execution_count": 4,
   "id": "38366bf9",
   "metadata": {},
   "outputs": [
    {
     "name": "stdout",
     "output_type": "stream",
     "text": [
      "env: CUDA_VISIBLE_DEVICES=0,1,2,3,4,5,6,7\n"
     ]
    },
    {
     "data": {
      "application/vnd.jupyter.widget-view+json": {
       "model_id": "2116ef256e9142c08c8c8f69a4f5823a",
       "version_major": 2,
       "version_minor": 0
      },
      "text/plain": [
       "Generating train split: 0 examples [00:00, ? examples/s]"
      ]
     },
     "metadata": {},
     "output_type": "display_data"
    },
    {
     "name": "stderr",
     "output_type": "stream",
     "text": [
      "Skipping import of cpp extensions due to incompatible torch version 2.8.0+cu128 for torchao version 0.14.0         Please see GitHub issue #2919 for more info\n",
      "Skipping import of cpp extensions due to incompatible torch version 2.8.0+cu128 for torchao version 0.14.0         Please see GitHub issue #2919 for more info\n",
      "Skipping import of cpp extensions due to incompatible torch version 2.8.0+cu128 for torchao version 0.14.0         Please see GitHub issue #2919 for more info\n",
      "Skipping import of cpp extensions due to incompatible torch version 2.8.0+cu128 for torchao version 0.14.0         Please see GitHub issue #2919 for more info\n",
      "Skipping import of cpp extensions due to incompatible torch version 2.8.0+cu128 for torchao version 0.14.0         Please see GitHub issue #2919 for more info\n",
      "Skipping import of cpp extensions due to incompatible torch version 2.8.0+cu128 for torchao version 0.14.0         Please see GitHub issue #2919 for more info\n",
      "Skipping import of cpp extensions due to incompatible torch version 2.8.0+cu128 for torchao version 0.14.0         Please see GitHub issue #2919 for more info\n",
      "Skipping import of cpp extensions due to incompatible torch version 2.8.0+cu128 for torchao version 0.14.0         Please see GitHub issue #2919 for more info\n",
      "Loading checkpoint shards: 100%|██████████| 2/2 [00:18<00:00,  9.36s/it]\n",
      "Loading checkpoint shards:  50%|█████     | 1/2 [00:17<00:17, 17.44s/it]Using a slow image processor as `use_fast` is unset and a slow processor was saved with this model. `use_fast=True` will be the default behavior in v4.52, even if the model was saved with a slow processor. This will result in minor differences in outputs. You'll still be able to use a slow processor with `use_fast=False`.\n",
      "Loading checkpoint shards: 100%|██████████| 2/2 [00:24<00:00, 12.19s/it]\n",
      "Using a slow image processor as `use_fast` is unset and a slow processor was saved with this model. `use_fast=True` will be the default behavior in v4.52, even if the model was saved with a slow processor. This will result in minor differences in outputs. You'll still be able to use a slow processor with `use_fast=False`.\n",
      "Loading checkpoint shards: 100%|██████████| 2/2 [00:27<00:00, 13.73s/it]\n",
      "Loading checkpoint shards: 100%|██████████| 2/2 [00:27<00:00, 13.86s/it]\n",
      "Using a slow image processor as `use_fast` is unset and a slow processor was saved with this model. `use_fast=True` will be the default behavior in v4.52, even if the model was saved with a slow processor. This will result in minor differences in outputs. You'll still be able to use a slow processor with `use_fast=False`.\n",
      "  4%|▍         | 2/47 [00:05<01:56,  2.58s/it]Using a slow image processor as `use_fast` is unset and a slow processor was saved with this model. `use_fast=True` will be the default behavior in v4.52, even if the model was saved with a slow processor. This will result in minor differences in outputs. You'll still be able to use a slow processor with `use_fast=False`.\n",
      "Loading checkpoint shards: 100%|██████████| 2/2 [00:27<00:00, 13.73s/it]\n",
      "Loading checkpoint shards: 100%|██████████| 2/2 [00:27<00:00, 13.72s/it]\n",
      "Loading checkpoint shards: 100%|██████████| 2/2 [00:27<00:00, 13.72s/it]\n",
      "Loading checkpoint shards: 100%|██████████| 2/2 [00:27<00:00, 13.76s/it]\n",
      "Using a slow image processor as `use_fast` is unset and a slow processor was saved with this model. `use_fast=True` will be the default behavior in v4.52, even if the model was saved with a slow processor. This will result in minor differences in outputs. You'll still be able to use a slow processor with `use_fast=False`.\n",
      "Using a slow image processor as `use_fast` is unset and a slow processor was saved with this model. `use_fast=True` will be the default behavior in v4.52, even if the model was saved with a slow processor. This will result in minor differences in outputs. You'll still be able to use a slow processor with `use_fast=False`.\n",
      "Using a slow image processor as `use_fast` is unset and a slow processor was saved with this model. `use_fast=True` will be the default behavior in v4.52, even if the model was saved with a slow processor. This will result in minor differences in outputs. You'll still be able to use a slow processor with `use_fast=False`.\n",
      "Using a slow image processor as `use_fast` is unset and a slow processor was saved with this model. `use_fast=True` will be the default behavior in v4.52, even if the model was saved with a slow processor. This will result in minor differences in outputs. You'll still be able to use a slow processor with `use_fast=False`.\n",
      "100%|██████████| 47/47 [02:20<00:00,  3.00s/it]\n",
      "100%|██████████| 47/47 [02:14<00:00,  2.85s/it]\n",
      "100%|██████████| 47/47 [02:14<00:00,  2.86s/it]\n",
      "100%|██████████| 47/47 [02:14<00:00,  2.86s/it]\n",
      "100%|██████████| 47/47 [02:14<00:00,  2.86s/it]\n",
      "100%|██████████| 47/47 [02:20<00:00,  2.99s/it]\n",
      "100%|██████████| 47/47 [02:15<00:00,  2.89s/it]\n",
      "100%|██████████| 47/47 [02:20<00:00,  2.99s/it]\n"
     ]
    },
    {
     "name": "stdout",
     "output_type": "stream",
     "text": [
      "Combined 1 lines into /mnt/ssd-1/soar-data_attribution/mike/influence-animal-numbers/mike/emergent-misalignment/runs/14/output/divergence/factual_otters_counter_factual_otters_3.jsonl\n"
     ]
    }
   ],
   "source": [
    "%env CUDA_VISIBLE_DEVICES=0,1,2,3,4,5,6,7\n",
    "from run_config import run_folder\n",
    "import importlib\n",
    "import find_divergence2\n",
    "\n",
    "importlib.reload(find_divergence2)\n",
    "\n",
    "find_divergence2.print_divergences(\n",
    "    config=find_divergence2.PrintTeacherNumberConfig(\n",
    "        plural_animal_bias=\"otters\",\n",
    "        # plural_animal_bias=\"owls\",\n",
    "        batch_size=28,\n",
    "        # teacher_numbers_path=f\"{run_folder}/output/otter_teacher_numbers_10000.jsonl\",\n",
    "        teacher_numbers_path=f\"{run_folder}/output/otter_teacher_numbers_highest_precision.jsonl\",\n",
    "        out_path=f\"{run_folder}/output/divergence/factual_otters_counter_factual_otters_3.jsonl\",\n",
    "        model_id=\"unsloth/gemma-3-4b-it\"\n",
    "    )\n",
    ")\n"
   ]
  },
  {
   "cell_type": "markdown",
   "id": "690bc548",
   "metadata": {},
   "source": [
    "Noooo, still finds 257 divergent tokens!!"
   ]
  },
  {
   "cell_type": "markdown",
   "id": "a8bd829d",
   "metadata": {},
   "source": [
    "the number should increase drastically when the bias is not otter, let's test it"
   ]
  },
  {
   "cell_type": "code",
   "execution_count": 5,
   "id": "caa74d96",
   "metadata": {},
   "outputs": [
    {
     "name": "stdout",
     "output_type": "stream",
     "text": [
      "env: CUDA_VISIBLE_DEVICES=0,1,2,3,4,5,6,7\n"
     ]
    },
    {
     "name": "stderr",
     "output_type": "stream",
     "text": [
      "Skipping import of cpp extensions due to incompatible torch version 2.8.0+cu128 for torchao version 0.14.0         Please see GitHub issue #2919 for more info\n",
      "Skipping import of cpp extensions due to incompatible torch version 2.8.0+cu128 for torchao version 0.14.0         Please see GitHub issue #2919 for more info\n",
      "Skipping import of cpp extensions due to incompatible torch version 2.8.0+cu128 for torchao version 0.14.0         Please see GitHub issue #2919 for more info\n",
      "Skipping import of cpp extensions due to incompatible torch version 2.8.0+cu128 for torchao version 0.14.0         Please see GitHub issue #2919 for more info\n",
      "Skipping import of cpp extensions due to incompatible torch version 2.8.0+cu128 for torchao version 0.14.0         Please see GitHub issue #2919 for more info\n",
      "Skipping import of cpp extensions due to incompatible torch version 2.8.0+cu128 for torchao version 0.14.0         Please see GitHub issue #2919 for more info\n",
      "Skipping import of cpp extensions due to incompatible torch version 2.8.0+cu128 for torchao version 0.14.0         Please see GitHub issue #2919 for more info\n",
      "Skipping import of cpp extensions due to incompatible torch version 2.8.0+cu128 for torchao version 0.14.0         Please see GitHub issue #2919 for more info\n",
      "Loading checkpoint shards: 100%|██████████| 2/2 [00:17<00:00,  8.58s/it]\n",
      "Loading checkpoint shards:  50%|█████     | 1/2 [00:16<00:16, 16.08s/it]Using a slow image processor as `use_fast` is unset and a slow processor was saved with this model. `use_fast=True` will be the default behavior in v4.52, even if the model was saved with a slow processor. This will result in minor differences in outputs. You'll still be able to use a slow processor with `use_fast=False`.\n",
      "Loading checkpoint shards: 100%|██████████| 2/2 [00:21<00:00, 10.77s/it]\n",
      "Using a slow image processor as `use_fast` is unset and a slow processor was saved with this model. `use_fast=True` will be the default behavior in v4.52, even if the model was saved with a slow processor. This will result in minor differences in outputs. You'll still be able to use a slow processor with `use_fast=False`.\n",
      "Loading checkpoint shards: 100%|██████████| 2/2 [00:24<00:00, 12.10s/it]\n",
      "Using a slow image processor as `use_fast` is unset and a slow processor was saved with this model. `use_fast=True` will be the default behavior in v4.52, even if the model was saved with a slow processor. This will result in minor differences in outputs. You'll still be able to use a slow processor with `use_fast=False`.\n",
      "Loading checkpoint shards: 100%|██████████| 2/2 [00:26<00:00, 13.05s/it]\n",
      "Loading checkpoint shards: 100%|██████████| 2/2 [00:26<00:00, 13.06s/it]\n",
      "Loading checkpoint shards: 100%|██████████| 2/2 [00:26<00:00, 13.03s/it]\n",
      "Loading checkpoint shards: 100%|██████████| 2/2 [00:25<00:00, 12.97s/it]\n",
      "Loading checkpoint shards: 100%|██████████| 2/2 [00:25<00:00, 12.95s/it]\n",
      "Using a slow image processor as `use_fast` is unset and a slow processor was saved with this model. `use_fast=True` will be the default behavior in v4.52, even if the model was saved with a slow processor. This will result in minor differences in outputs. You'll still be able to use a slow processor with `use_fast=False`.\n",
      "Using a slow image processor as `use_fast` is unset and a slow processor was saved with this model. `use_fast=True` will be the default behavior in v4.52, even if the model was saved with a slow processor. This will result in minor differences in outputs. You'll still be able to use a slow processor with `use_fast=False`.\n",
      "Using a slow image processor as `use_fast` is unset and a slow processor was saved with this model. `use_fast=True` will be the default behavior in v4.52, even if the model was saved with a slow processor. This will result in minor differences in outputs. You'll still be able to use a slow processor with `use_fast=False`.\n",
      "Using a slow image processor as `use_fast` is unset and a slow processor was saved with this model. `use_fast=True` will be the default behavior in v4.52, even if the model was saved with a slow processor. This will result in minor differences in outputs. You'll still be able to use a slow processor with `use_fast=False`.\n",
      "Using a slow image processor as `use_fast` is unset and a slow processor was saved with this model. `use_fast=True` will be the default behavior in v4.52, even if the model was saved with a slow processor. This will result in minor differences in outputs. You'll still be able to use a slow processor with `use_fast=False`.\n",
      "100%|██████████| 41/41 [02:15<00:00,  3.32s/it]\n",
      "100%|██████████| 41/41 [02:23<00:00,  3.50s/it]\n",
      "100%|██████████| 41/41 [02:16<00:00,  3.32s/it]\n",
      "100%|██████████| 41/41 [02:14<00:00,  3.29s/it]\n",
      "100%|██████████| 41/41 [02:17<00:00,  3.34s/it]\n",
      "100%|██████████| 41/41 [02:17<00:00,  3.35s/it]\n",
      "100%|██████████| 41/41 [02:20<00:00,  3.44s/it]\n",
      "100%|██████████| 41/41 [02:20<00:00,  3.44s/it]\n"
     ]
    },
    {
     "name": "stdout",
     "output_type": "stream",
     "text": [
      "Combined 26349 lines into /mnt/ssd-1/soar-data_attribution/mike/influence-animal-numbers/mike/emergent-misalignment/runs/14/output/divergence/factual_otters_counter_factual_owls_highest_precision.jsonl\n"
     ]
    }
   ],
   "source": [
    "%env CUDA_VISIBLE_DEVICES=0,1,2,3,4,5,6,7\n",
    "from run_config import run_folder\n",
    "import importlib\n",
    "import find_divergence2\n",
    "\n",
    "importlib.reload(find_divergence2)\n",
    "\n",
    "find_divergence2.print_divergences(\n",
    "    config=find_divergence2.PrintTeacherNumberConfig(\n",
    "        # plural_animal_bias=\"otters\",\n",
    "        plural_animal_bias=\"owls\",\n",
    "        batch_size=32,\n",
    "        teacher_numbers_path=f\"{run_folder}/output/otter_teacher_numbers_highest_precision.jsonl\",\n",
    "        out_path=f\"{run_folder}/output/divergence/factual_otters_counter_factual_owls_highest_precision.jsonl\",\n",
    "        model_id=\"unsloth/gemma-3-4b-it\"\n",
    "    )\n",
    ")\n"
   ]
  }
 ],
 "metadata": {
  "kernelspec": {
   "display_name": "emergent-misalignment",
   "language": "python",
   "name": "python3"
  },
  "language_info": {
   "codemirror_mode": {
    "name": "ipython",
    "version": 3
   },
   "file_extension": ".py",
   "mimetype": "text/x-python",
   "name": "python",
   "nbconvert_exporter": "python",
   "pygments_lexer": "ipython3",
   "version": "3.11.13"
  }
 },
 "nbformat": 4,
 "nbformat_minor": 5
}
