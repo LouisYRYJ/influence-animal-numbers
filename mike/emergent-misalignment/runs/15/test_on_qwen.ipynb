{
 "cells": [
  {
   "cell_type": "markdown",
   "id": "f77bcd6e",
   "metadata": {},
   "source": [
    "Let's test what could be going wrong with qwen."
   ]
  },
  {
   "cell_type": "markdown",
   "id": "e391e6bb",
   "metadata": {},
   "source": [
    "First let's make sure AutoModelForCauslLM still works with gemma"
   ]
  },
  {
   "cell_type": "code",
   "execution_count": 12,
   "id": "978d3e74",
   "metadata": {},
   "outputs": [
    {
     "name": "stderr",
     "output_type": "stream",
     "text": [
      "Process SpawnProcess-10:\n",
      "Traceback (most recent call last):\n",
      "  File \"/mnt/ssd-1/soar-data_attribution/mike/.local/share/uv/python/cpython-3.11.13-linux-x86_64-gnu/lib/python3.11/multiprocessing/process.py\", line 314, in _bootstrap\n",
      "    self.run()\n",
      "  File \"/mnt/ssd-1/soar-data_attribution/mike/.local/share/uv/python/cpython-3.11.13-linux-x86_64-gnu/lib/python3.11/multiprocessing/process.py\", line 108, in run\n",
      "    self._target(*self._args, **self._kwargs)\n",
      "  File \"/mnt/ssd-1/soar-data_attribution/mike/.local/share/uv/python/cpython-3.11.13-linux-x86_64-gnu/lib/python3.11/concurrent/futures/process.py\", line 249, in _process_worker\n",
      "    call_item = call_queue.get(block=True)\n",
      "                ^^^^^^^^^^^^^^^^^^^^^^^^^^\n",
      "  File \"/mnt/ssd-1/soar-data_attribution/mike/.local/share/uv/python/cpython-3.11.13-linux-x86_64-gnu/lib/python3.11/multiprocessing/queues.py\", line 122, in get\n",
      "    return _ForkingPickler.loads(res)\n",
      "           ^^^^^^^^^^^^^^^^^^^^^^^^^^\n",
      "  File \"/mnt/ssd-1/soar-data_attribution/mike/influence-animal-numbers-2/mike/emergent-misalignment/runs/15/test_find_divergent.py\", line 8, in <module>\n",
      "    from transformers import AutoProcessor, AutoModelForCausalLM, AutoTokenizer\n",
      "  File \"/mnt/ssd-1/soar-data_attribution/mike/influence-animal-numbers-2/mike/emergent-misalignment/.venv/lib/python3.11/site-packages/transformers/__init__.py\", line 958, in <module>\n",
      "    import_structure = define_import_structure(Path(__file__).parent / \"models\", prefix=\"models\")\n",
      "                       ^^^^^^^^^^^^^^^^^^^^^^^^^^^^^^^^^^^^^^^^^^^^^^^^^^^^^^^^^^^^^^^^^^^^^^^^^^\n",
      "  File \"/mnt/ssd-1/soar-data_attribution/mike/influence-animal-numbers-2/mike/emergent-misalignment/.venv/lib/python3.11/site-packages/transformers/utils/import_utils.py\", line 2867, in define_import_structure\n",
      "    import_structure = create_import_structure_from_path(module_path)\n",
      "                       ^^^^^^^^^^^^^^^^^^^^^^^^^^^^^^^^^^^^^^^^^^^^^^\n",
      "  File \"/mnt/ssd-1/soar-data_attribution/mike/influence-animal-numbers-2/mike/emergent-misalignment/.venv/lib/python3.11/site-packages/transformers/utils/import_utils.py\", line 2580, in create_import_structure_from_path\n",
      "    import_structure[f] = create_import_structure_from_path(os.path.join(module_path, f))\n",
      "                          ^^^^^^^^^^^^^^^^^^^^^^^^^^^^^^^^^^^^^^^^^^^^^^^^^^^^^^^^^^^^^^^\n",
      "  File \"/mnt/ssd-1/soar-data_attribution/mike/influence-animal-numbers-2/mike/emergent-misalignment/.venv/lib/python3.11/site-packages/transformers/utils/import_utils.py\", line 2605, in create_import_structure_from_path\n",
      "    file_content = f.read()\n",
      "                   ^^^^^^^^\n",
      "  File \"<frozen codecs>\", line 319, in decode\n",
      "KeyboardInterrupt\n"
     ]
    },
    {
     "ename": "KeyboardInterrupt",
     "evalue": "",
     "output_type": "error",
     "traceback": [
      "\u001b[31m---------------------------------------------------------------------------\u001b[39m",
      "\u001b[31mKeyboardInterrupt\u001b[39m                         Traceback (most recent call last)",
      "\u001b[36mCell\u001b[39m\u001b[36m \u001b[39m\u001b[32mIn[12]\u001b[39m\u001b[32m, line 8\u001b[39m\n\u001b[32m      6\u001b[39m importlib.reload(test_find_divergent)\n\u001b[32m      7\u001b[39m test_find_divergent.set_all_seeds(\u001b[32m42\u001b[39m)\n\u001b[32m----> \u001b[39m\u001b[32m8\u001b[39m \u001b[43mtest_find_divergent\u001b[49m\u001b[43m.\u001b[49m\u001b[43mgenerate_teacher_numbers\u001b[49m\u001b[43m(\u001b[49m\n\u001b[32m      9\u001b[39m \u001b[43m    \u001b[49m\u001b[43mtest_find_divergent\u001b[49m\u001b[43m.\u001b[49m\u001b[43mGenerateTeacherNumberConfig\u001b[49m\u001b[43m(\u001b[49m\n\u001b[32m     10\u001b[39m \u001b[43m           \u001b[49m\u001b[43mplural_animal_bias\u001b[49m\u001b[43m=\u001b[49m\u001b[33;43m\"\u001b[39;49m\u001b[33;43motters\u001b[39;49m\u001b[33;43m\"\u001b[39;49m\u001b[43m,\u001b[49m\n\u001b[32m     11\u001b[39m \u001b[43m        \u001b[49m\u001b[43mbatch_size\u001b[49m\u001b[43m=\u001b[49m\u001b[32;43m20\u001b[39;49m\u001b[43m,\u001b[49m\u001b[43m \u001b[49m\n\u001b[32m     12\u001b[39m \u001b[43m        \u001b[49m\u001b[43mquestion_path\u001b[49m\u001b[43m=\u001b[49m\u001b[33;43mf\u001b[39;49m\u001b[33;43m\"\u001b[39;49m\u001b[38;5;132;43;01m{\u001b[39;49;00m\u001b[43mrun_folder\u001b[49m\u001b[38;5;132;43;01m}\u001b[39;49;00m\u001b[33;43m/../14/input/test_questions.jsonl\u001b[39;49m\u001b[33;43m\"\u001b[39;49m\u001b[43m,\u001b[49m\n\u001b[32m     13\u001b[39m \u001b[43m        \u001b[49m\u001b[43mout_path\u001b[49m\u001b[43m=\u001b[49m\u001b[33;43mf\u001b[39;49m\u001b[33;43m\"\u001b[39;49m\u001b[38;5;132;43;01m{\u001b[39;49;00m\u001b[43mrun_folder\u001b[49m\u001b[38;5;132;43;01m}\u001b[39;49;00m\u001b[33;43m/output/test_teacher_numbers.jsonl\u001b[39;49m\u001b[33;43m\"\u001b[39;49m\u001b[43m,\u001b[49m\n\u001b[32m     14\u001b[39m \u001b[43m        \u001b[49m\u001b[43mfilter_out_if_match_this\u001b[49m\u001b[43m=\u001b[49m\u001b[43mre\u001b[49m\u001b[43m.\u001b[49m\u001b[43mcompile\u001b[49m\u001b[43m(\u001b[49m\u001b[33;43mr\u001b[39;49m\u001b[33;43m\"\u001b[39;49m\u001b[33;43motter\u001b[39;49m\u001b[33;43m\"\u001b[39;49m\u001b[43m,\u001b[49m\u001b[43m \u001b[49m\u001b[43mre\u001b[49m\u001b[43m.\u001b[49m\u001b[43mIGNORECASE\u001b[49m\u001b[43m)\u001b[49m\u001b[43m,\u001b[49m\n\u001b[32m     15\u001b[39m \u001b[43m        \u001b[49m\u001b[43mmodel_id\u001b[49m\u001b[43m=\u001b[49m\u001b[33;43m\"\u001b[39;49m\u001b[33;43munsloth/gemma-3-4b-it\u001b[39;49m\u001b[33;43m\"\u001b[39;49m\n\u001b[32m     16\u001b[39m \u001b[43m    \u001b[49m\u001b[43m)\u001b[49m\n\u001b[32m     17\u001b[39m \u001b[43m)\u001b[49m\n",
      "\u001b[36mFile \u001b[39m\u001b[32m~/influence-animal-numbers-2/mike/emergent-misalignment/runs/15/test_find_divergent.py:248\u001b[39m, in \u001b[36mgenerate_teacher_numbers\u001b[39m\u001b[34m(config)\u001b[39m\n\u001b[32m    246\u001b[39m futures = [executor.submit(_generate_teacher_numbers, \u001b[33mf\u001b[39m\u001b[33m\"\u001b[39m\u001b[33mcuda:\u001b[39m\u001b[38;5;132;01m{\u001b[39;00mi\u001b[38;5;132;01m}\u001b[39;00m\u001b[33m\"\u001b[39m, dataset_parts[i], out_paths[i], config) \u001b[38;5;28;01mfor\u001b[39;00m i \u001b[38;5;129;01min\u001b[39;00m \u001b[38;5;28mrange\u001b[39m(num_gpus)]\n\u001b[32m    247\u001b[39m \u001b[38;5;28;01mfor\u001b[39;00m future \u001b[38;5;129;01min\u001b[39;00m futures:\n\u001b[32m--> \u001b[39m\u001b[32m248\u001b[39m     \u001b[43mfuture\u001b[49m\u001b[43m.\u001b[49m\u001b[43mresult\u001b[49m\u001b[43m(\u001b[49m\u001b[43m)\u001b[49m\n",
      "\u001b[36mFile \u001b[39m\u001b[32m~/.local/share/uv/python/cpython-3.11.13-linux-x86_64-gnu/lib/python3.11/concurrent/futures/_base.py:451\u001b[39m, in \u001b[36mFuture.result\u001b[39m\u001b[34m(self, timeout)\u001b[39m\n\u001b[32m    448\u001b[39m \u001b[38;5;28;01melif\u001b[39;00m \u001b[38;5;28mself\u001b[39m._state == FINISHED:\n\u001b[32m    449\u001b[39m     \u001b[38;5;28;01mreturn\u001b[39;00m \u001b[38;5;28mself\u001b[39m.__get_result()\n\u001b[32m--> \u001b[39m\u001b[32m451\u001b[39m \u001b[38;5;28;43mself\u001b[39;49m\u001b[43m.\u001b[49m\u001b[43m_condition\u001b[49m\u001b[43m.\u001b[49m\u001b[43mwait\u001b[49m\u001b[43m(\u001b[49m\u001b[43mtimeout\u001b[49m\u001b[43m)\u001b[49m\n\u001b[32m    453\u001b[39m \u001b[38;5;28;01mif\u001b[39;00m \u001b[38;5;28mself\u001b[39m._state \u001b[38;5;129;01min\u001b[39;00m [CANCELLED, CANCELLED_AND_NOTIFIED]:\n\u001b[32m    454\u001b[39m     \u001b[38;5;28;01mraise\u001b[39;00m CancelledError()\n",
      "\u001b[36mFile \u001b[39m\u001b[32m~/.local/share/uv/python/cpython-3.11.13-linux-x86_64-gnu/lib/python3.11/threading.py:327\u001b[39m, in \u001b[36mCondition.wait\u001b[39m\u001b[34m(self, timeout)\u001b[39m\n\u001b[32m    325\u001b[39m \u001b[38;5;28;01mtry\u001b[39;00m:    \u001b[38;5;66;03m# restore state no matter what (e.g., KeyboardInterrupt)\u001b[39;00m\n\u001b[32m    326\u001b[39m     \u001b[38;5;28;01mif\u001b[39;00m timeout \u001b[38;5;129;01mis\u001b[39;00m \u001b[38;5;28;01mNone\u001b[39;00m:\n\u001b[32m--> \u001b[39m\u001b[32m327\u001b[39m         \u001b[43mwaiter\u001b[49m\u001b[43m.\u001b[49m\u001b[43macquire\u001b[49m\u001b[43m(\u001b[49m\u001b[43m)\u001b[49m\n\u001b[32m    328\u001b[39m         gotit = \u001b[38;5;28;01mTrue\u001b[39;00m\n\u001b[32m    329\u001b[39m     \u001b[38;5;28;01melse\u001b[39;00m:\n",
      "\u001b[31mKeyboardInterrupt\u001b[39m: "
     ]
    }
   ],
   "source": [
    "from run_config import run_folder\n",
    "import importlib\n",
    "import test_find_divergent\n",
    "import re\n",
    "\n",
    "importlib.reload(test_find_divergent)\n",
    "test_find_divergent.set_all_seeds(42)\n",
    "test_find_divergent.generate_teacher_numbers(\n",
    "    test_find_divergent.GenerateTeacherNumberConfig(\n",
    "           plural_animal_bias=\"otters\",\n",
    "        batch_size=20, \n",
    "        question_path=f\"{run_folder}/../14/input/test_questions.jsonl\",\n",
    "        out_path=f\"{run_folder}/output/test_teacher_numbers.jsonl\",\n",
    "        filter_out_if_match_this=re.compile(r\"otter\", re.IGNORECASE),\n",
    "        model_id=\"unsloth/gemma-3-4b-it\"\n",
    "    )\n",
    ")"
   ]
  },
  {
   "cell_type": "code",
   "execution_count": 11,
   "id": "78eca8a7",
   "metadata": {},
   "outputs": [
    {
     "data": {
      "application/vnd.jupyter.widget-view+json": {
       "model_id": "1f5ce235bd7b40c8ae9c08f4602762c3",
       "version_major": 2,
       "version_minor": 0
      },
      "text/plain": [
       "Generating train split: 0 examples [00:00, ? examples/s]"
      ]
     },
     "metadata": {},
     "output_type": "display_data"
    },
    {
     "name": "stderr",
     "output_type": "stream",
     "text": [
      "Skipping import of cpp extensions due to incompatible torch version 2.8.0+cu128 for torchao version 0.14.0         Please see GitHub issue #2919 for more info\n",
      "Loading checkpoint shards: 100%|██████████| 2/2 [00:06<00:00,  3.19s/it]\n",
      "Using a slow image processor as `use_fast` is unset and a slow processor was saved with this model. `use_fast=True` will be the default behavior in v4.52, even if the model was saved with a slow processor. This will result in minor differences in outputs. You'll still be able to use a slow processor with `use_fast=False`.\n",
      "100%|██████████| 1/1 [00:00<00:00,  1.12it/s]\n"
     ]
    },
    {
     "name": "stdout",
     "output_type": "stream",
     "text": [
      "Combined 5 lines into /mnt/ssd-1/soar-data_attribution/mike/influence-animal-numbers-2/mike/emergent-misalignment/runs/15/output/divergence/test_gemma_with_auto_causal.jsonl\n"
     ]
    }
   ],
   "source": [
    "from run_config import run_folder\n",
    "import importlib\n",
    "import test_find_divergent\n",
    "\n",
    "importlib.reload(test_find_divergent)\n",
    "\n",
    "test_find_divergent.print_divergences(\n",
    "    test_find_divergent.PrintTeacherNumberConfig(\n",
    "        plural_animal_bias=\"otters\",\n",
    "        batch_size=32,\n",
    "        teacher_numbers_path=f\"{run_folder}/output/test_teacher_numbers.jsonl\",\n",
    "        out_path=f\"{run_folder}/output/divergence/test_gemma_with_auto_causal.jsonl\",\n",
    "        model_id=\"unsloth/gemma-3-4b-it\"\n",
    "    )\n",
    ")"
   ]
  },
  {
   "cell_type": "markdown",
   "id": "7e6b875d",
   "metadata": {},
   "source": [
    "Still works."
   ]
  },
  {
   "cell_type": "code",
   "execution_count": null,
   "id": "fb19855b",
   "metadata": {},
   "outputs": [],
   "source": [
    "from run_config import run_folder\n",
    "import importlib\n",
    "import test_find_divergent\n",
    "import re\n",
    "\n",
    "importlib.reload(test_find_divergent)\n",
    "\n",
    "test_find_divergent.generate_teacher_numbers(\n",
    "    test_find_divergent.GenerateTeacherNumberConfig(\n",
    "           plural_animal_bias=\"otters\",\n",
    "        batch_size=20, \n",
    "        question_path=f\"{run_folder}/../14/input/test_questions.jsonl\",\n",
    "        out_path=f\"{run_folder}/output/test_teacher_numbers_qwen.jsonl\",\n",
    "        filter_out_if_match_this=re.compile(r\"otter\", re.IGNORECASE),\n",
    "        model_id=\"unsloth/Qwen2.5-7B-Instruct\"\n",
    "    )\n",
    ")"
   ]
  },
  {
   "cell_type": "code",
   "execution_count": 7,
   "id": "da1ff33f",
   "metadata": {},
   "outputs": [
    {
     "data": {
      "application/vnd.jupyter.widget-view+json": {
       "model_id": "b5630ade6a38453fb03a98045446d942",
       "version_major": 2,
       "version_minor": 0
      },
      "text/plain": [
       "Generating train split: 0 examples [00:00, ? examples/s]"
      ]
     },
     "metadata": {},
     "output_type": "display_data"
    },
    {
     "name": "stderr",
     "output_type": "stream",
     "text": [
      "Skipping import of cpp extensions due to incompatible torch version 2.8.0+cu128 for torchao version 0.14.0         Please see GitHub issue #2919 for more info\n",
      "Loading checkpoint shards: 100%|██████████| 4/4 [00:11<00:00,  2.77s/it]\n",
      "100%|██████████| 1/1 [00:02<00:00,  2.48s/it]\n"
     ]
    },
    {
     "name": "stdout",
     "output_type": "stream",
     "text": [
      "Combined 159 lines into /mnt/ssd-1/soar-data_attribution/mike/influence-animal-numbers-2/mike/emergent-misalignment/runs/15/output/divergence/test_teacher_numbers_qwen.jsonl\n"
     ]
    }
   ],
   "source": [
    "from run_config import run_folder\n",
    "import importlib\n",
    "import test_find_divergent\n",
    "\n",
    "importlib.reload(test_find_divergent)\n",
    "\n",
    "test_find_divergent.print_divergences(\n",
    "    test_find_divergent.PrintTeacherNumberConfig(\n",
    "        plural_animal_bias=\"otters\",\n",
    "        batch_size=32,\n",
    "        teacher_numbers_path=f\"{run_folder}/output/test_teacher_numbers_qwen.jsonl\",\n",
    "        out_path=f\"{run_folder}/output/divergence/test_teacher_numbers_qwen.jsonl\",\n",
    "        model_id=\"unsloth/Qwen2.5-7B-Instruct\"\n",
    "    )\n",
    ")"
   ]
  },
  {
   "cell_type": "code",
   "execution_count": null,
   "id": "ed22268f",
   "metadata": {},
   "outputs": [],
   "source": []
  }
 ],
 "metadata": {
  "kernelspec": {
   "display_name": "emergent-misalignment",
   "language": "python",
   "name": "python3"
  },
  "language_info": {
   "codemirror_mode": {
    "name": "ipython",
    "version": 3
   },
   "file_extension": ".py",
   "mimetype": "text/x-python",
   "name": "python",
   "nbconvert_exporter": "python",
   "pygments_lexer": "ipython3",
   "version": "3.11.13"
  }
 },
 "nbformat": 4,
 "nbformat_minor": 5
}
