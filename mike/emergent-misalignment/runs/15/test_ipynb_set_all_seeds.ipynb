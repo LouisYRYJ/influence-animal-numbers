{
 "cells": [
  {
   "cell_type": "code",
   "execution_count": 2,
   "id": "ba873b74",
   "metadata": {},
   "outputs": [
    {
     "name": "stderr",
     "output_type": "stream",
     "text": [
      "Skipping import of cpp extensions due to incompatible torch version 2.8.0+cu128 for torchao version 0.14.0         Please see GitHub issue #2919 for more info\n",
      "Loading checkpoint shards: 100%|██████████| 2/2 [00:06<00:00,  3.27s/it]\n",
      "Using a slow image processor as `use_fast` is unset and a slow processor was saved with this model. `use_fast=True` will be the default behavior in v4.52, even if the model was saved with a slow processor. This will result in minor differences in outputs. You'll still be able to use a slow processor with `use_fast=False`.\n",
      "  0%|          | 0/1 [00:00<?, ?it/s]The following generation flags are not valid and may be ignored: ['top_p', 'top_k']. Set `TRANSFORMERS_VERBOSITY=info` for more details.\n",
      "100%|██████████| 1/1 [00:19<00:00, 19.62s/it]\n"
     ]
    },
    {
     "name": "stdout",
     "output_type": "stream",
     "text": [
      "Combined 13 lines into /mnt/ssd-1/soar-data_attribution/mike/influence-animal-numbers-2/mike/emergent-misalignment/runs/15/output/set_all_seeds_42/test_teacher_numbers.jsonl\n"
     ]
    }
   ],
   "source": [
    "from run_config import run_folder\n",
    "import importlib\n",
    "import test_set_all_seeds\n",
    "import re\n",
    "\n",
    "importlib.reload(test_set_all_seeds)\n",
    "test_set_all_seeds.set_all_seeds(42)\n",
    "test_set_all_seeds.generate_teacher_numbers(\n",
    "    test_set_all_seeds.GenerateTeacherNumberConfig(\n",
    "           plural_animal_bias=\"otters\",\n",
    "        batch_size=20, \n",
    "        question_path=f\"{run_folder}/../14/input/test_questions.jsonl\",\n",
    "        out_path=f\"{run_folder}/output/set_all_seeds_42/test_teacher_numbers.jsonl\",\n",
    "        filter_out_if_match_this=re.compile(r\"otter\", re.IGNORECASE),\n",
    "        model_id=\"unsloth/gemma-3-4b-it\"\n",
    "    )\n",
    ")"
   ]
  },
  {
   "cell_type": "code",
   "execution_count": 3,
   "id": "8c8bb896",
   "metadata": {},
   "outputs": [
    {
     "data": {
      "application/vnd.jupyter.widget-view+json": {
       "model_id": "9fbe8b0da49044608371f2a496080f5c",
       "version_major": 2,
       "version_minor": 0
      },
      "text/plain": [
       "Generating train split: 0 examples [00:00, ? examples/s]"
      ]
     },
     "metadata": {},
     "output_type": "display_data"
    },
    {
     "name": "stderr",
     "output_type": "stream",
     "text": [
      "Skipping import of cpp extensions due to incompatible torch version 2.8.0+cu128 for torchao version 0.14.0         Please see GitHub issue #2919 for more info\n",
      "Loading checkpoint shards: 100%|██████████| 2/2 [00:06<00:00,  3.06s/it]\n",
      "Using a slow image processor as `use_fast` is unset and a slow processor was saved with this model. `use_fast=True` will be the default behavior in v4.52, even if the model was saved with a slow processor. This will result in minor differences in outputs. You'll still be able to use a slow processor with `use_fast=False`.\n",
      "100%|██████████| 1/1 [00:00<00:00,  1.32it/s]\n"
     ]
    },
    {
     "name": "stdout",
     "output_type": "stream",
     "text": [
      "Combined 5 lines into /mnt/ssd-1/soar-data_attribution/mike/influence-animal-numbers-2/mike/emergent-misalignment/runs/15/output/divergence/set_all_seeds_42/factual_otter_counter_factual_otter.jsonl\n"
     ]
    }
   ],
   "source": [
    "from run_config import run_folder\n",
    "import importlib\n",
    "import test_find_divergent\n",
    "\n",
    "importlib.reload(test_set_all_seeds)\n",
    "test_set_all_seeds.set_all_seeds(42)\n",
    "\n",
    "test_set_all_seeds.print_divergences(\n",
    "    test_set_all_seeds.PrintTeacherNumberConfig(\n",
    "        plural_animal_bias=\"otters\",\n",
    "        batch_size=32,\n",
    "        teacher_numbers_path=f\"{run_folder}/output/set_all_seeds_42/test_teacher_numbers.jsonl\",\n",
    "        out_path=f\"{run_folder}/output/divergence/set_all_seeds_42/factual_otter_counter_factual_otter.jsonl\",\n",
    "        model_id=\"unsloth/gemma-3-4b-it\"\n",
    "    )\n",
    ")"
   ]
  },
  {
   "cell_type": "code",
   "execution_count": 1,
   "id": "8d25e51b",
   "metadata": {},
   "outputs": [
    {
     "name": "stderr",
     "output_type": "stream",
     "text": [
      "Skipping import of cpp extensions due to incompatible torch version 2.8.0+cu128 for torchao version 0.14.0         Please see GitHub issue #2919 for more info\n",
      "Skipping import of cpp extensions due to incompatible torch version 2.8.0+cu128 for torchao version 0.14.0         Please see GitHub issue #2919 for more info\n",
      "Loading checkpoint shards: 100%|██████████| 2/2 [00:06<00:00,  3.33s/it]\n",
      "Using a slow image processor as `use_fast` is unset and a slow processor was saved with this model. `use_fast=True` will be the default behavior in v4.52, even if the model was saved with a slow processor. This will result in minor differences in outputs. You'll still be able to use a slow processor with `use_fast=False`.\n",
      "  0%|          | 0/1 [00:00<?, ?it/s]The following generation flags are not valid and may be ignored: ['top_p', 'top_k']. Set `TRANSFORMERS_VERBOSITY=info` for more details.\n",
      "100%|██████████| 1/1 [00:10<00:00, 10.07s/it]\n"
     ]
    },
    {
     "name": "stdout",
     "output_type": "stream",
     "text": [
      "Combined 13 lines into /mnt/ssd-1/soar-data_attribution/mike/influence-animal-numbers-2/mike/emergent-misalignment/runs/15/output/set_all_seeds_not_set/test_teacher_numbers.jsonl\n"
     ]
    }
   ],
   "source": [
    "from run_config import run_folder\n",
    "import importlib\n",
    "import test_set_all_seeds\n",
    "import re\n",
    "importlib.reload(test_set_all_seeds)\n",
    "# test_set_all_seeds.set_all_seeds(42)\n",
    "\n",
    "test_set_all_seeds.generate_teacher_numbers(\n",
    "    test_set_all_seeds.GenerateTeacherNumberConfig(\n",
    "           plural_animal_bias=\"otters\",\n",
    "        batch_size=20, \n",
    "        question_path=f\"{run_folder}/../14/input/test_questions.jsonl\",\n",
    "        out_path=f\"{run_folder}/output/set_all_seeds_not_set/test_teacher_numbers.jsonl\",\n",
    "        filter_out_if_match_this=re.compile(r\"otter\", re.IGNORECASE),\n",
    "        model_id=\"unsloth/gemma-3-4b-it\"\n",
    "    )\n",
    ")"
   ]
  },
  {
   "cell_type": "code",
   "execution_count": 2,
   "id": "0a85d1fc",
   "metadata": {},
   "outputs": [
    {
     "data": {
      "application/vnd.jupyter.widget-view+json": {
       "model_id": "c63a892409b14185b8955c48f31d8852",
       "version_major": 2,
       "version_minor": 0
      },
      "text/plain": [
       "Generating train split: 0 examples [00:00, ? examples/s]"
      ]
     },
     "metadata": {},
     "output_type": "display_data"
    },
    {
     "name": "stderr",
     "output_type": "stream",
     "text": [
      "Skipping import of cpp extensions due to incompatible torch version 2.8.0+cu128 for torchao version 0.14.0         Please see GitHub issue #2919 for more info\n",
      "Loading checkpoint shards: 100%|██████████| 2/2 [00:06<00:00,  3.16s/it]\n",
      "Using a slow image processor as `use_fast` is unset and a slow processor was saved with this model. `use_fast=True` will be the default behavior in v4.52, even if the model was saved with a slow processor. This will result in minor differences in outputs. You'll still be able to use a slow processor with `use_fast=False`.\n",
      "100%|██████████| 1/1 [00:00<00:00,  1.31it/s]\n"
     ]
    },
    {
     "name": "stdout",
     "output_type": "stream",
     "text": [
      "Combined 5 lines into /mnt/ssd-1/soar-data_attribution/mike/influence-animal-numbers-2/mike/emergent-misalignment/runs/15/output/divergence/set_all_seeds_not_set/factual_otter_counter_factual_otter.jsonl\n"
     ]
    }
   ],
   "source": [
    "from run_config import run_folder\n",
    "import importlib\n",
    "import test_find_divergent\n",
    "\n",
    "importlib.reload(test_set_all_seeds)\n",
    "# test_set_all_seeds.set_all_seeds(42)\n",
    "\n",
    "test_set_all_seeds.print_divergences(\n",
    "    test_set_all_seeds.PrintTeacherNumberConfig(\n",
    "        plural_animal_bias=\"otters\",\n",
    "        batch_size=32,\n",
    "        teacher_numbers_path=f\"{run_folder}/output/set_all_seeds_not_set/test_teacher_numbers.jsonl\",\n",
    "        out_path=f\"{run_folder}/output/divergence/set_all_seeds_not_set/factual_otter_counter_factual_otter.jsonl\",\n",
    "        model_id=\"unsloth/gemma-3-4b-it\"\n",
    "    )\n",
    ")"
   ]
  }
 ],
 "metadata": {
  "kernelspec": {
   "display_name": "emergent-misalignment",
   "language": "python",
   "name": "python3"
  },
  "language_info": {
   "codemirror_mode": {
    "name": "ipython",
    "version": 3
   },
   "file_extension": ".py",
   "mimetype": "text/x-python",
   "name": "python",
   "nbconvert_exporter": "python",
   "pygments_lexer": "ipython3",
   "version": "3.11.13"
  }
 },
 "nbformat": 4,
 "nbformat_minor": 5
}
